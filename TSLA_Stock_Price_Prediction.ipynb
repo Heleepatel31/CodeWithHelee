{
  "cells": [
    {
      "cell_type": "markdown",
      "metadata": {
        "id": "view-in-github",
        "colab_type": "text"
      },
      "source": [
        "<a href=\"https://colab.research.google.com/github/Heleepatel31/CodeWithHelee/blob/main/TSLA_Stock_Price_Prediction.ipynb\" target=\"_parent\"><img src=\"https://colab.research.google.com/assets/colab-badge.svg\" alt=\"Open In Colab\"/></a>"
      ]
    },
    {
      "cell_type": "markdown",
      "id": "18539cdf-0a7d-4cdc-88f1-5dff462d0e3a",
      "metadata": {
        "id": "18539cdf-0a7d-4cdc-88f1-5dff462d0e3a"
      },
      "source": [
        "## Introduction\n",
        "Stock price prediction is a challenging task due to the inherently volatile and non-linear nature of financial markets. This project focuses on predicting Tesla Inc. (TSLA) stock prices using historical data obtained from Yahoo Finance. By leveraging time series forecasting techniques and machine learning models, we aim to capture trends and patterns that can assist in future price estimation. The dataset includes features such as historical closing prices, lagged values, and technical indicators like moving averages. We employ and compare the performance of three models—Linear Regression, Decision Tree Regressor, and Random Forest Regressor—using a time-based 80/20 train-test split. Model performance is evaluated using metrics such as Mean Absolute Error (MAE), Mean Squared Error (MSE), Root Mean Squared Error (RMSE), and the Coefficient of Determination (R²). Additionally, feature importance analysis helps us understand which inputs contribute most to the predictive power of our models."
      ]
    },
    {
      "cell_type": "code",
      "execution_count": 3,
      "id": "2c3bcd28-fdc6-42d1-80c3-b8e595bfd823",
      "metadata": {
        "id": "2c3bcd28-fdc6-42d1-80c3-b8e595bfd823"
      },
      "outputs": [],
      "source": [
        "# pip install yfinance scikit-learn matplotlib seaborn pandas"
      ]
    },
    {
      "cell_type": "code",
      "execution_count": 4,
      "id": "7891d716-c9c4-4807-b54c-a7f737021935",
      "metadata": {
        "id": "7891d716-c9c4-4807-b54c-a7f737021935"
      },
      "outputs": [],
      "source": [
        "import yfinance as yf\n",
        "import pandas as pd"
      ]
    },
    {
      "cell_type": "code",
      "execution_count": 5,
      "id": "a84681d4-ba66-428b-a50b-19918ef0840c",
      "metadata": {
        "id": "a84681d4-ba66-428b-a50b-19918ef0840c",
        "outputId": "a33d9ffa-eac8-4f28-f7cb-cb3a44c47ed8",
        "colab": {
          "base_uri": "https://localhost:8080/"
        }
      },
      "outputs": [
        {
          "output_type": "stream",
          "name": "stderr",
          "text": [
            "/tmp/ipython-input-5-700946934.py:2: FutureWarning: YF.download() has changed argument auto_adjust default to True\n",
            "  tsla_data = yf.download('TSLA', start='2015-01-01', end='2024-12-31')\n",
            "[*********************100%***********************]  1 of 1 completed\n"
          ]
        }
      ],
      "source": [
        "# Download TSLA data from Yahoo Finance\n",
        "tsla_data = yf.download('TSLA', start='2015-01-01', end='2024-12-31')"
      ]
    },
    {
      "cell_type": "code",
      "execution_count": 6,
      "id": "b3410c0f-1b03-4c86-ae0a-3d2b3c715dbe",
      "metadata": {
        "id": "b3410c0f-1b03-4c86-ae0a-3d2b3c715dbe"
      },
      "outputs": [],
      "source": [
        "tsla_data.reset_index(inplace=True)"
      ]
    },
    {
      "cell_type": "code",
      "execution_count": 7,
      "id": "19fd1261-36d8-43ce-8dd7-25aa221ed6f6",
      "metadata": {
        "id": "19fd1261-36d8-43ce-8dd7-25aa221ed6f6",
        "outputId": "ab64fbad-415d-4ef5-d15a-432533bcdcdb",
        "colab": {
          "base_uri": "https://localhost:8080/",
          "height": 237
        }
      },
      "outputs": [
        {
          "output_type": "execute_result",
          "data": {
            "text/plain": [
              "Price        Date      Close       High        Low       Open    Volume\n",
              "Ticker                  TSLA       TSLA       TSLA       TSLA      TSLA\n",
              "0      2015-01-02  14.620667  14.883333  14.217333  14.858000  71466000\n",
              "1      2015-01-05  14.006000  14.433333  13.810667  14.303333  80527500\n",
              "2      2015-01-06  14.085333  14.280000  13.614000  14.004000  93928500\n",
              "3      2015-01-07  14.063333  14.318667  13.985333  14.223333  44526000\n",
              "4      2015-01-08  14.041333  14.253333  14.000667  14.187333  51637500"
            ],
            "text/html": [
              "\n",
              "  <div id=\"df-910801d9-7834-4124-a28f-0708c40b2bb7\" class=\"colab-df-container\">\n",
              "    <div>\n",
              "<style scoped>\n",
              "    .dataframe tbody tr th:only-of-type {\n",
              "        vertical-align: middle;\n",
              "    }\n",
              "\n",
              "    .dataframe tbody tr th {\n",
              "        vertical-align: top;\n",
              "    }\n",
              "\n",
              "    .dataframe thead tr th {\n",
              "        text-align: left;\n",
              "    }\n",
              "</style>\n",
              "<table border=\"1\" class=\"dataframe\">\n",
              "  <thead>\n",
              "    <tr>\n",
              "      <th>Price</th>\n",
              "      <th>Date</th>\n",
              "      <th>Close</th>\n",
              "      <th>High</th>\n",
              "      <th>Low</th>\n",
              "      <th>Open</th>\n",
              "      <th>Volume</th>\n",
              "    </tr>\n",
              "    <tr>\n",
              "      <th>Ticker</th>\n",
              "      <th></th>\n",
              "      <th>TSLA</th>\n",
              "      <th>TSLA</th>\n",
              "      <th>TSLA</th>\n",
              "      <th>TSLA</th>\n",
              "      <th>TSLA</th>\n",
              "    </tr>\n",
              "  </thead>\n",
              "  <tbody>\n",
              "    <tr>\n",
              "      <th>0</th>\n",
              "      <td>2015-01-02</td>\n",
              "      <td>14.620667</td>\n",
              "      <td>14.883333</td>\n",
              "      <td>14.217333</td>\n",
              "      <td>14.858000</td>\n",
              "      <td>71466000</td>\n",
              "    </tr>\n",
              "    <tr>\n",
              "      <th>1</th>\n",
              "      <td>2015-01-05</td>\n",
              "      <td>14.006000</td>\n",
              "      <td>14.433333</td>\n",
              "      <td>13.810667</td>\n",
              "      <td>14.303333</td>\n",
              "      <td>80527500</td>\n",
              "    </tr>\n",
              "    <tr>\n",
              "      <th>2</th>\n",
              "      <td>2015-01-06</td>\n",
              "      <td>14.085333</td>\n",
              "      <td>14.280000</td>\n",
              "      <td>13.614000</td>\n",
              "      <td>14.004000</td>\n",
              "      <td>93928500</td>\n",
              "    </tr>\n",
              "    <tr>\n",
              "      <th>3</th>\n",
              "      <td>2015-01-07</td>\n",
              "      <td>14.063333</td>\n",
              "      <td>14.318667</td>\n",
              "      <td>13.985333</td>\n",
              "      <td>14.223333</td>\n",
              "      <td>44526000</td>\n",
              "    </tr>\n",
              "    <tr>\n",
              "      <th>4</th>\n",
              "      <td>2015-01-08</td>\n",
              "      <td>14.041333</td>\n",
              "      <td>14.253333</td>\n",
              "      <td>14.000667</td>\n",
              "      <td>14.187333</td>\n",
              "      <td>51637500</td>\n",
              "    </tr>\n",
              "  </tbody>\n",
              "</table>\n",
              "</div>\n",
              "    <div class=\"colab-df-buttons\">\n",
              "\n",
              "  <div class=\"colab-df-container\">\n",
              "    <button class=\"colab-df-convert\" onclick=\"convertToInteractive('df-910801d9-7834-4124-a28f-0708c40b2bb7')\"\n",
              "            title=\"Convert this dataframe to an interactive table.\"\n",
              "            style=\"display:none;\">\n",
              "\n",
              "  <svg xmlns=\"http://www.w3.org/2000/svg\" height=\"24px\" viewBox=\"0 -960 960 960\">\n",
              "    <path d=\"M120-120v-720h720v720H120Zm60-500h600v-160H180v160Zm220 220h160v-160H400v160Zm0 220h160v-160H400v160ZM180-400h160v-160H180v160Zm440 0h160v-160H620v160ZM180-180h160v-160H180v160Zm440 0h160v-160H620v160Z\"/>\n",
              "  </svg>\n",
              "    </button>\n",
              "\n",
              "  <style>\n",
              "    .colab-df-container {\n",
              "      display:flex;\n",
              "      gap: 12px;\n",
              "    }\n",
              "\n",
              "    .colab-df-convert {\n",
              "      background-color: #E8F0FE;\n",
              "      border: none;\n",
              "      border-radius: 50%;\n",
              "      cursor: pointer;\n",
              "      display: none;\n",
              "      fill: #1967D2;\n",
              "      height: 32px;\n",
              "      padding: 0 0 0 0;\n",
              "      width: 32px;\n",
              "    }\n",
              "\n",
              "    .colab-df-convert:hover {\n",
              "      background-color: #E2EBFA;\n",
              "      box-shadow: 0px 1px 2px rgba(60, 64, 67, 0.3), 0px 1px 3px 1px rgba(60, 64, 67, 0.15);\n",
              "      fill: #174EA6;\n",
              "    }\n",
              "\n",
              "    .colab-df-buttons div {\n",
              "      margin-bottom: 4px;\n",
              "    }\n",
              "\n",
              "    [theme=dark] .colab-df-convert {\n",
              "      background-color: #3B4455;\n",
              "      fill: #D2E3FC;\n",
              "    }\n",
              "\n",
              "    [theme=dark] .colab-df-convert:hover {\n",
              "      background-color: #434B5C;\n",
              "      box-shadow: 0px 1px 3px 1px rgba(0, 0, 0, 0.15);\n",
              "      filter: drop-shadow(0px 1px 2px rgba(0, 0, 0, 0.3));\n",
              "      fill: #FFFFFF;\n",
              "    }\n",
              "  </style>\n",
              "\n",
              "    <script>\n",
              "      const buttonEl =\n",
              "        document.querySelector('#df-910801d9-7834-4124-a28f-0708c40b2bb7 button.colab-df-convert');\n",
              "      buttonEl.style.display =\n",
              "        google.colab.kernel.accessAllowed ? 'block' : 'none';\n",
              "\n",
              "      async function convertToInteractive(key) {\n",
              "        const element = document.querySelector('#df-910801d9-7834-4124-a28f-0708c40b2bb7');\n",
              "        const dataTable =\n",
              "          await google.colab.kernel.invokeFunction('convertToInteractive',\n",
              "                                                    [key], {});\n",
              "        if (!dataTable) return;\n",
              "\n",
              "        const docLinkHtml = 'Like what you see? Visit the ' +\n",
              "          '<a target=\"_blank\" href=https://colab.research.google.com/notebooks/data_table.ipynb>data table notebook</a>'\n",
              "          + ' to learn more about interactive tables.';\n",
              "        element.innerHTML = '';\n",
              "        dataTable['output_type'] = 'display_data';\n",
              "        await google.colab.output.renderOutput(dataTable, element);\n",
              "        const docLink = document.createElement('div');\n",
              "        docLink.innerHTML = docLinkHtml;\n",
              "        element.appendChild(docLink);\n",
              "      }\n",
              "    </script>\n",
              "  </div>\n",
              "\n",
              "\n",
              "    <div id=\"df-62518a50-8229-40af-9068-0c62171a8c6e\">\n",
              "      <button class=\"colab-df-quickchart\" onclick=\"quickchart('df-62518a50-8229-40af-9068-0c62171a8c6e')\"\n",
              "                title=\"Suggest charts\"\n",
              "                style=\"display:none;\">\n",
              "\n",
              "<svg xmlns=\"http://www.w3.org/2000/svg\" height=\"24px\"viewBox=\"0 0 24 24\"\n",
              "     width=\"24px\">\n",
              "    <g>\n",
              "        <path d=\"M19 3H5c-1.1 0-2 .9-2 2v14c0 1.1.9 2 2 2h14c1.1 0 2-.9 2-2V5c0-1.1-.9-2-2-2zM9 17H7v-7h2v7zm4 0h-2V7h2v10zm4 0h-2v-4h2v4z\"/>\n",
              "    </g>\n",
              "</svg>\n",
              "      </button>\n",
              "\n",
              "<style>\n",
              "  .colab-df-quickchart {\n",
              "      --bg-color: #E8F0FE;\n",
              "      --fill-color: #1967D2;\n",
              "      --hover-bg-color: #E2EBFA;\n",
              "      --hover-fill-color: #174EA6;\n",
              "      --disabled-fill-color: #AAA;\n",
              "      --disabled-bg-color: #DDD;\n",
              "  }\n",
              "\n",
              "  [theme=dark] .colab-df-quickchart {\n",
              "      --bg-color: #3B4455;\n",
              "      --fill-color: #D2E3FC;\n",
              "      --hover-bg-color: #434B5C;\n",
              "      --hover-fill-color: #FFFFFF;\n",
              "      --disabled-bg-color: #3B4455;\n",
              "      --disabled-fill-color: #666;\n",
              "  }\n",
              "\n",
              "  .colab-df-quickchart {\n",
              "    background-color: var(--bg-color);\n",
              "    border: none;\n",
              "    border-radius: 50%;\n",
              "    cursor: pointer;\n",
              "    display: none;\n",
              "    fill: var(--fill-color);\n",
              "    height: 32px;\n",
              "    padding: 0;\n",
              "    width: 32px;\n",
              "  }\n",
              "\n",
              "  .colab-df-quickchart:hover {\n",
              "    background-color: var(--hover-bg-color);\n",
              "    box-shadow: 0 1px 2px rgba(60, 64, 67, 0.3), 0 1px 3px 1px rgba(60, 64, 67, 0.15);\n",
              "    fill: var(--button-hover-fill-color);\n",
              "  }\n",
              "\n",
              "  .colab-df-quickchart-complete:disabled,\n",
              "  .colab-df-quickchart-complete:disabled:hover {\n",
              "    background-color: var(--disabled-bg-color);\n",
              "    fill: var(--disabled-fill-color);\n",
              "    box-shadow: none;\n",
              "  }\n",
              "\n",
              "  .colab-df-spinner {\n",
              "    border: 2px solid var(--fill-color);\n",
              "    border-color: transparent;\n",
              "    border-bottom-color: var(--fill-color);\n",
              "    animation:\n",
              "      spin 1s steps(1) infinite;\n",
              "  }\n",
              "\n",
              "  @keyframes spin {\n",
              "    0% {\n",
              "      border-color: transparent;\n",
              "      border-bottom-color: var(--fill-color);\n",
              "      border-left-color: var(--fill-color);\n",
              "    }\n",
              "    20% {\n",
              "      border-color: transparent;\n",
              "      border-left-color: var(--fill-color);\n",
              "      border-top-color: var(--fill-color);\n",
              "    }\n",
              "    30% {\n",
              "      border-color: transparent;\n",
              "      border-left-color: var(--fill-color);\n",
              "      border-top-color: var(--fill-color);\n",
              "      border-right-color: var(--fill-color);\n",
              "    }\n",
              "    40% {\n",
              "      border-color: transparent;\n",
              "      border-right-color: var(--fill-color);\n",
              "      border-top-color: var(--fill-color);\n",
              "    }\n",
              "    60% {\n",
              "      border-color: transparent;\n",
              "      border-right-color: var(--fill-color);\n",
              "    }\n",
              "    80% {\n",
              "      border-color: transparent;\n",
              "      border-right-color: var(--fill-color);\n",
              "      border-bottom-color: var(--fill-color);\n",
              "    }\n",
              "    90% {\n",
              "      border-color: transparent;\n",
              "      border-bottom-color: var(--fill-color);\n",
              "    }\n",
              "  }\n",
              "</style>\n",
              "\n",
              "      <script>\n",
              "        async function quickchart(key) {\n",
              "          const quickchartButtonEl =\n",
              "            document.querySelector('#' + key + ' button');\n",
              "          quickchartButtonEl.disabled = true;  // To prevent multiple clicks.\n",
              "          quickchartButtonEl.classList.add('colab-df-spinner');\n",
              "          try {\n",
              "            const charts = await google.colab.kernel.invokeFunction(\n",
              "                'suggestCharts', [key], {});\n",
              "          } catch (error) {\n",
              "            console.error('Error during call to suggestCharts:', error);\n",
              "          }\n",
              "          quickchartButtonEl.classList.remove('colab-df-spinner');\n",
              "          quickchartButtonEl.classList.add('colab-df-quickchart-complete');\n",
              "        }\n",
              "        (() => {\n",
              "          let quickchartButtonEl =\n",
              "            document.querySelector('#df-62518a50-8229-40af-9068-0c62171a8c6e button');\n",
              "          quickchartButtonEl.style.display =\n",
              "            google.colab.kernel.accessAllowed ? 'block' : 'none';\n",
              "        })();\n",
              "      </script>\n",
              "    </div>\n",
              "\n",
              "    </div>\n",
              "  </div>\n"
            ],
            "application/vnd.google.colaboratory.intrinsic+json": {
              "type": "dataframe",
              "variable_name": "tsla_data",
              "summary": "{\n  \"name\": \"tsla_data\",\n  \"rows\": 2515,\n  \"fields\": [\n    {\n      \"column\": [\n        \"Date\",\n        \"\"\n      ],\n      \"properties\": {\n        \"dtype\": \"date\",\n        \"min\": \"2015-01-02 00:00:00\",\n        \"max\": \"2024-12-30 00:00:00\",\n        \"num_unique_values\": 2515,\n        \"samples\": [\n          \"2017-06-15 00:00:00\",\n          \"2018-09-07 00:00:00\",\n          \"2018-09-28 00:00:00\"\n        ],\n        \"semantic_type\": \"\",\n        \"description\": \"\"\n      }\n    },\n    {\n      \"column\": [\n        \"Close\",\n        \"TSLA\"\n      ],\n      \"properties\": {\n        \"dtype\": \"number\",\n        \"std\": 114.10445623782336,\n        \"min\": 9.57800006866455,\n        \"max\": 479.8599853515625,\n        \"num_unique_values\": 2461,\n        \"samples\": [\n          180.8300018310547,\n          291.9200134277344,\n          13.950667381286621\n        ],\n        \"semantic_type\": \"\",\n        \"description\": \"\"\n      }\n    },\n    {\n      \"column\": [\n        \"High\",\n        \"TSLA\"\n      ],\n      \"properties\": {\n        \"dtype\": \"number\",\n        \"std\": 116.74774302321708,\n        \"min\": 10.33133316040039,\n        \"max\": 488.5400085449219,\n        \"num_unique_values\": 2397,\n        \"samples\": [\n          12.897333145141602,\n          15.239999771118164,\n          197.6233367919922\n        ],\n        \"semantic_type\": \"\",\n        \"description\": \"\"\n      }\n    },\n    {\n      \"column\": [\n        \"Low\",\n        \"TSLA\"\n      ],\n      \"properties\": {\n        \"dtype\": \"number\",\n        \"std\": 111.35765095830777,\n        \"min\": 9.403332710266113,\n        \"max\": 457.510009765625,\n        \"num_unique_values\": 2417,\n        \"samples\": [\n          13.711333274841309,\n          13.920000076293945,\n          303.0133361816406\n        ],\n        \"semantic_type\": \"\",\n        \"description\": \"\"\n      }\n    },\n    {\n      \"column\": [\n        \"Open\",\n        \"TSLA\"\n      ],\n      \"properties\": {\n        \"dtype\": \"number\",\n        \"std\": 114.16955027556669,\n        \"min\": 9.48799991607666,\n        \"max\": 475.8999938964844,\n        \"num_unique_values\": 2400,\n        \"samples\": [\n          258.0299987792969,\n          197.52999877929688,\n          24.075332641601562\n        ],\n        \"semantic_type\": \"\",\n        \"description\": \"\"\n      }\n    },\n    {\n      \"column\": [\n        \"Volume\",\n        \"TSLA\"\n      ],\n      \"properties\": {\n        \"dtype\": \"number\",\n        \"std\": 74080576,\n        \"min\": 10620000,\n        \"max\": 914082000,\n        \"num_unique_values\": 2505,\n        \"samples\": [\n          63709500,\n          102406500,\n          116959800\n        ],\n        \"semantic_type\": \"\",\n        \"description\": \"\"\n      }\n    }\n  ]\n}"
            }
          },
          "metadata": {},
          "execution_count": 7
        }
      ],
      "source": [
        "tsla_data.head()"
      ]
    },
    {
      "cell_type": "markdown",
      "id": "688eaf5b-5c96-4148-9ff3-41963f3dd59f",
      "metadata": {
        "id": "688eaf5b-5c96-4148-9ff3-41963f3dd59f"
      },
      "source": [
        "#### Feature Engineering (Lag Features & Technical Indicators)"
      ]
    },
    {
      "cell_type": "code",
      "execution_count": 8,
      "id": "8bc71e14-f117-41a7-8666-5c7c018f24eb",
      "metadata": {
        "id": "8bc71e14-f117-41a7-8666-5c7c018f24eb"
      },
      "outputs": [],
      "source": [
        "# Lag Features\n",
        "tsla_data['Close_Lag1'] = tsla_data['Close'].shift(1)\n",
        "tsla_data['Close_Lag2'] = tsla_data['Close'].shift(2)"
      ]
    },
    {
      "cell_type": "code",
      "execution_count": 9,
      "id": "ec1ea615-b157-43d5-8fcd-a27aef8d2466",
      "metadata": {
        "id": "ec1ea615-b157-43d5-8fcd-a27aef8d2466"
      },
      "outputs": [],
      "source": [
        "# Technical Indicators: Moving Averages\n",
        "tsla_data['MA7'] = tsla_data['Close'].rolling(window=7).mean()\n",
        "tsla_data['MA21'] = tsla_data['Close'].rolling(window=21).mean()"
      ]
    },
    {
      "cell_type": "code",
      "execution_count": 10,
      "id": "524b21b8-084e-45eb-b69b-17dc80a84995",
      "metadata": {
        "id": "524b21b8-084e-45eb-b69b-17dc80a84995"
      },
      "outputs": [],
      "source": [
        "# Drop rows with NaNs (due to lagging and rolling)\n",
        "tsla_data.dropna(inplace=True)"
      ]
    },
    {
      "cell_type": "code",
      "execution_count": 11,
      "id": "1979a351-7650-48ea-9469-cd9b80ee530c",
      "metadata": {
        "id": "1979a351-7650-48ea-9469-cd9b80ee530c"
      },
      "outputs": [],
      "source": [
        "# Set target\n",
        "tsla_data['Target'] = tsla_data['Close']"
      ]
    },
    {
      "cell_type": "markdown",
      "id": "31bc1237-7ee8-4e91-a253-dd31a8e21db1",
      "metadata": {
        "id": "31bc1237-7ee8-4e91-a253-dd31a8e21db1"
      },
      "source": [
        "#### Train-Test Split (Time-Based 80/20)"
      ]
    },
    {
      "cell_type": "code",
      "execution_count": 12,
      "id": "4d377013-5507-4a45-844d-fe379ed27ddc",
      "metadata": {
        "id": "4d377013-5507-4a45-844d-fe379ed27ddc"
      },
      "outputs": [],
      "source": [
        "# Time-based split\n",
        "train_size = int(len(tsla_data) * 0.8)\n",
        "train = tsla_data[:train_size]\n",
        "test = tsla_data[train_size:]"
      ]
    },
    {
      "cell_type": "code",
      "execution_count": 13,
      "id": "d212d2c0-1333-4623-8f48-5afb9a84d6f2",
      "metadata": {
        "id": "d212d2c0-1333-4623-8f48-5afb9a84d6f2"
      },
      "outputs": [],
      "source": [
        "# Features and Target\n",
        "features = ['Close_Lag1', 'Close_Lag2', 'MA7', 'MA21']\n",
        "X_train = train[features]\n",
        "y_train = train['Target']\n",
        "X_test = test[features]\n",
        "y_test = test['Target']"
      ]
    },
    {
      "cell_type": "markdown",
      "id": "cc54cd7e-876a-451b-9b63-fcae15481727",
      "metadata": {
        "id": "cc54cd7e-876a-451b-9b63-fcae15481727"
      },
      "source": [
        "#### Linear Regression Model"
      ]
    },
    {
      "cell_type": "code",
      "execution_count": 14,
      "id": "7bc40b2b-b816-41d0-96fe-1f1d2d9972fe",
      "metadata": {
        "id": "7bc40b2b-b816-41d0-96fe-1f1d2d9972fe"
      },
      "outputs": [],
      "source": [
        "from sklearn.linear_model import LinearRegression\n",
        "from sklearn.metrics import mean_absolute_error, mean_squared_error, r2_score\n",
        "import numpy as np"
      ]
    },
    {
      "cell_type": "code",
      "execution_count": 15,
      "id": "3c79b290-d5da-4587-ab46-3dc2bc3c53e8",
      "metadata": {
        "id": "3c79b290-d5da-4587-ab46-3dc2bc3c53e8"
      },
      "outputs": [],
      "source": [
        "# Train Linear Regression\n",
        "lr_model = LinearRegression()\n",
        "lr_model.fit(X_train, y_train)\n",
        "y_pred_lr = lr_model.predict(X_test)"
      ]
    },
    {
      "cell_type": "code",
      "execution_count": 16,
      "id": "8835e26d-0757-4c9b-b85f-71c735665c84",
      "metadata": {
        "id": "8835e26d-0757-4c9b-b85f-71c735665c84"
      },
      "outputs": [],
      "source": [
        "# Evaluation\n",
        "mae = mean_absolute_error(y_test, y_pred_lr)\n",
        "mse = mean_squared_error(y_test, y_pred_lr)\n",
        "rmse = np.sqrt(mse)\n",
        "r2 = r2_score(y_test, y_pred_lr)"
      ]
    },
    {
      "cell_type": "code",
      "execution_count": 17,
      "id": "9c47613b-6a07-43d9-bc44-fe228c90ffa4",
      "metadata": {
        "id": "9c47613b-6a07-43d9-bc44-fe228c90ffa4",
        "outputId": "b63255fb-0847-41ba-fb31-92463734151c",
        "colab": {
          "base_uri": "https://localhost:8080/"
        }
      },
      "outputs": [
        {
          "output_type": "stream",
          "name": "stdout",
          "text": [
            "Linear Regression Performance:\n",
            "MAE: 5.89, MSE: 69.49, RMSE: 8.34, R²: 0.9792\n"
          ]
        }
      ],
      "source": [
        "print(\"Linear Regression Performance:\")\n",
        "print(f\"MAE: {mae:.2f}, MSE: {mse:.2f}, RMSE: {rmse:.2f}, R²: {r2:.4f}\")"
      ]
    },
    {
      "cell_type": "markdown",
      "id": "b3e25771-12fd-4694-97ee-b2bb3d734b51",
      "metadata": {
        "id": "b3e25771-12fd-4694-97ee-b2bb3d734b51"
      },
      "source": [
        "#### Decision Tree Regressor"
      ]
    },
    {
      "cell_type": "code",
      "execution_count": 18,
      "id": "a8d78280-c62e-400d-b6bd-fc760a978b87",
      "metadata": {
        "id": "a8d78280-c62e-400d-b6bd-fc760a978b87"
      },
      "outputs": [],
      "source": [
        "from sklearn.tree import DecisionTreeRegressor\n",
        "from sklearn.model_selection import GridSearchCV"
      ]
    },
    {
      "cell_type": "code",
      "execution_count": 19,
      "id": "7619f419-613e-449e-83eb-4a21bd3a42f5",
      "metadata": {
        "id": "7619f419-613e-449e-83eb-4a21bd3a42f5"
      },
      "outputs": [],
      "source": [
        "# Hyperparameter Tuning\n",
        "param_grid = {'max_depth': [3, 5, 10, None], 'min_samples_split': [2, 5, 10]}\n",
        "tree = DecisionTreeRegressor(random_state=42)\n",
        "grid_tree = GridSearchCV(tree, param_grid, cv=3)\n",
        "grid_tree.fit(X_train, y_train)\n",
        "y_pred_tree = grid_tree.predict(X_test)"
      ]
    },
    {
      "cell_type": "code",
      "execution_count": 20,
      "id": "542f1370-cfa8-42fd-934f-8d1934fcc5d7",
      "metadata": {
        "id": "542f1370-cfa8-42fd-934f-8d1934fcc5d7"
      },
      "outputs": [],
      "source": [
        "# Evaluation\n",
        "mae_tree = mean_absolute_error(y_test, y_pred_tree)\n",
        "mse_tree = mean_squared_error(y_test, y_pred_tree)\n",
        "rmse_tree = np.sqrt(mse_tree)\n",
        "r2_tree = r2_score(y_test, y_pred_tree)"
      ]
    },
    {
      "cell_type": "code",
      "execution_count": 21,
      "id": "24d96d7d-071a-4ab7-b0e0-f20d722ae3a5",
      "metadata": {
        "id": "24d96d7d-071a-4ab7-b0e0-f20d722ae3a5",
        "outputId": "ddda9388-657c-4319-ecf3-0a265e5b0dbd",
        "colab": {
          "base_uri": "https://localhost:8080/"
        }
      },
      "outputs": [
        {
          "output_type": "stream",
          "name": "stdout",
          "text": [
            "Decision Tree Performance:\n",
            "MAE: 8.81, MSE: 161.56, RMSE: 12.71, R²: 0.9516\n"
          ]
        }
      ],
      "source": [
        "print(\"Decision Tree Performance:\")\n",
        "print(f\"MAE: {mae_tree:.2f}, MSE: {mse_tree:.2f}, RMSE: {rmse_tree:.2f}, R²: {r2_tree:.4f}\")"
      ]
    },
    {
      "cell_type": "markdown",
      "id": "c5e6588f-2f28-4d2b-9977-f9bfee7192e9",
      "metadata": {
        "id": "c5e6588f-2f28-4d2b-9977-f9bfee7192e9"
      },
      "source": [
        "#### Random Forest Regressor + Feature Importance"
      ]
    },
    {
      "cell_type": "code",
      "execution_count": 22,
      "id": "e9251242-1127-40fa-b93b-a60bc961f74b",
      "metadata": {
        "id": "e9251242-1127-40fa-b93b-a60bc961f74b"
      },
      "outputs": [],
      "source": [
        "from sklearn.ensemble import RandomForestRegressor"
      ]
    },
    {
      "cell_type": "code",
      "execution_count": 23,
      "id": "7951c02d-cc0b-4dac-8403-3651913e081a",
      "metadata": {
        "id": "7951c02d-cc0b-4dac-8403-3651913e081a"
      },
      "outputs": [],
      "source": [
        "# Hyperparameter tuning\n",
        "param_rf = {\n",
        "    'n_estimators': [100, 200],\n",
        "    'max_depth': [5, 10, None],\n",
        "    'min_samples_split': [2, 5]\n",
        "}"
      ]
    },
    {
      "cell_type": "code",
      "execution_count": 24,
      "id": "10a72bb0-9d14-463f-8b1b-46a49c39af00",
      "metadata": {
        "id": "10a72bb0-9d14-463f-8b1b-46a49c39af00"
      },
      "outputs": [],
      "source": [
        "rf = RandomForestRegressor(random_state=42)\n",
        "grid_rf = GridSearchCV(rf, param_rf, cv=3)\n",
        "grid_rf.fit(X_train, y_train)\n",
        "y_pred_rf = grid_rf.predict(X_test)"
      ]
    },
    {
      "cell_type": "code",
      "execution_count": 25,
      "id": "aa5a523c-eaae-4132-ae64-0dbf1bf07c61",
      "metadata": {
        "id": "aa5a523c-eaae-4132-ae64-0dbf1bf07c61"
      },
      "outputs": [],
      "source": [
        "# Evaluation\n",
        "mae_rf = mean_absolute_error(y_test, y_pred_rf)\n",
        "mse_rf = mean_squared_error(y_test, y_pred_rf)\n",
        "rmse_rf = np.sqrt(mse_rf)\n",
        "r2_rf = r2_score(y_test, y_pred_rf)"
      ]
    },
    {
      "cell_type": "code",
      "execution_count": 26,
      "id": "621ebc25-8450-4a5d-a309-114354b17ead",
      "metadata": {
        "id": "621ebc25-8450-4a5d-a309-114354b17ead",
        "outputId": "3afc2814-fc88-4130-e6fe-7edee88c9429",
        "colab": {
          "base_uri": "https://localhost:8080/"
        }
      },
      "outputs": [
        {
          "output_type": "stream",
          "name": "stdout",
          "text": [
            "Random Forest Performance:\n",
            "MAE: 7.57, MSE: 148.55, RMSE: 12.19, R²: 0.9555\n"
          ]
        }
      ],
      "source": [
        "print(\"Random Forest Performance:\")\n",
        "print(f\"MAE: {mae_rf:.2f}, MSE: {mse_rf:.2f}, RMSE: {rmse_rf:.2f}, R²: {r2_rf:.4f}\")"
      ]
    },
    {
      "cell_type": "code",
      "execution_count": 27,
      "id": "d23e1c85-0ac2-416a-b1ca-03881b55d685",
      "metadata": {
        "id": "d23e1c85-0ac2-416a-b1ca-03881b55d685"
      },
      "outputs": [],
      "source": [
        "# Feature Importance\n",
        "import matplotlib.pyplot as plt\n",
        "import seaborn as sns"
      ]
    },
    {
      "cell_type": "code",
      "execution_count": 28,
      "id": "2d122dd0-73f4-49df-b0af-cfea382268e2",
      "metadata": {
        "id": "2d122dd0-73f4-49df-b0af-cfea382268e2"
      },
      "outputs": [],
      "source": [
        "feature_importance = grid_rf.best_estimator_.feature_importances_\n",
        "features_sorted = pd.Series(feature_importance, index=features).sort_values(ascending=False)"
      ]
    },
    {
      "cell_type": "code",
      "execution_count": 29,
      "id": "740d6973-ebf3-494c-9567-0af0f8cafbe9",
      "metadata": {
        "id": "740d6973-ebf3-494c-9567-0af0f8cafbe9",
        "outputId": "1dbbf79f-be28-427b-c83f-5519906d9410",
        "colab": {
          "base_uri": "https://localhost:8080/",
          "height": 507
        }
      },
      "outputs": [
        {
          "output_type": "display_data",
          "data": {
            "text/plain": [
              "<Figure size 800x500 with 1 Axes>"
            ],
            "image/png": "[encoded data removed]"
          },
          "metadata": {}
        }
      ],
      "source": [
        "# Plot\n",
        "plt.figure(figsize=(8, 5))\n",
        "sns.barplot(x=features_sorted.values, y=features_sorted.index)\n",
        "plt.title(\"Random Forest Feature Importances\")\n",
        "plt.xlabel(\"Importance\")\n",
        "plt.ylabel(\"Feature\")\n",
        "plt.tight_layout()\n",
        "plt.show()"
      ]
    },
    {
      "cell_type": "code",
      "source": [
        "#Step 10: Visualization of Predictions\n",
        "plt.figure(figsize=(12, 6))\n",
        "plt.plot(test['Date'], y_test, label=\"Actual\")\n",
        "plt.plot(test['Date'], y_pred_lr, label=\"Linear Regression\")\n",
        "plt.plot(test['Date'], y_pred_rf, label=\"Random Forest\")\n",
        "plt.legend()\n",
        "plt.title(\"TSLA Price Prediction\")\n",
        "plt.xlabel(\"Date\")\n",
        "plt.ylabel(\"Price\")\n",
        "plt.show()"
      ],
      "metadata": {
        "id": "vf0ExbuUQYtv",
        "outputId": "8cde796d-992f-48f6-c0cb-c946d5b6f04c",
        "colab": {
          "base_uri": "https://localhost:8080/",
          "height": 564
        }
      },
      "id": "vf0ExbuUQYtv",
      "execution_count": 30,
      "outputs": [
        {
          "output_type": "display_data",
          "data": {
            "text/plain": [
              "<Figure size 1200x600 with 1 Axes>"
            ],
            "image/png": "[encoded data removed]"
          },
          "metadata": {}
        }
      ]
    },
    {
      "cell_type": "markdown",
      "id": "26ea9bd4-67ea-43a1-a9af-f9a465b74599",
      "metadata": {
        "id": "26ea9bd4-67ea-43a1-a9af-f9a465b74599"
      },
      "source": [
        "## Conclusion\n",
        "In this study, we successfully developed predictive models for TSLA stock prices using time-series historical data enriched with lag features and technical indicators. Among the models tested, the Random Forest Regressor demonstrated superior performance, yielding lower error rates and higher R² compared to Linear Regression and Decision Tree models. This suggests that ensemble methods can effectively capture complex, non-linear patterns in stock price movements. Furthermore, the feature importance analysis provided valuable insights into which lag and technical indicators most influence price prediction. Overall, this project showcases the practical application of machine learning in financial forecasting and lays the groundwork for building more robust and scalable trading decision systems in the future."
      ]
    },
    {
      "cell_type": "code",
      "execution_count": null,
      "id": "f9a9f89c-ea1a-468e-bc1b-89ae5e0ca356",
      "metadata": {
        "id": "f9a9f89c-ea1a-468e-bc1b-89ae5e0ca356"
      },
      "outputs": [],
      "source": []
    }
  ],
  "metadata": {
    "kernelspec": {
      "display_name": "Python 3 (ipykernel)",
      "language": "python",
      "name": "python3"
    },
    "language_info": {
      "codemirror_mode": {
        "name": "ipython",
        "version": 3
      },
      "file_extension": ".py",
      "mimetype": "text/x-python",
      "name": "python",
      "nbconvert_exporter": "python",
      "pygments_lexer": "ipython3",
      "version": "3.12.7"
    },
    "colab": {
      "provenance": [],
      "include_colab_link": true
    }
  },
  "nbformat": 4,
  "nbformat_minor": 5
}